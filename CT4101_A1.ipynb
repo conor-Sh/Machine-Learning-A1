{
 "cells": [
  {
   "cell_type": "code",
   "execution_count": 32,
   "id": "b01e26fc",
   "metadata": {},
   "outputs": [],
   "source": [
    "import pandas as pd\n",
    "import numpy as np\n",
    "import matplotlib.pyplot as plt"
   ]
  },
  {
   "cell_type": "code",
   "execution_count": 33,
   "id": "f1bdc87f",
   "metadata": {},
   "outputs": [
    {
     "data": {
      "text/plain": [
       "(154, 10)"
      ]
     },
     "execution_count": 33,
     "metadata": {},
     "output_type": "execute_result"
    }
   ],
   "source": [
    "train_df = pd.read_csv(\"C:/Users/shiel/machine_learning_a1/Datasets/wildfires_training.csv\")\n",
    "test_df = pd.read_csv(\"C:/Users/shiel/machine_learning_a1/Datasets/wildfires_test.csv\")\n",
    "train_df.shape\n"
   ]
  },
  {
   "cell_type": "code",
   "execution_count": 34,
   "id": "c3e98e11",
   "metadata": {},
   "outputs": [
    {
     "data": {
      "text/html": [
       "<div>\n",
       "<style scoped>\n",
       "    .dataframe tbody tr th:only-of-type {\n",
       "        vertical-align: middle;\n",
       "    }\n",
       "\n",
       "    .dataframe tbody tr th {\n",
       "        vertical-align: top;\n",
       "    }\n",
       "\n",
       "    .dataframe thead th {\n",
       "        text-align: right;\n",
       "    }\n",
       "</style>\n",
       "<table border=\"1\" class=\"dataframe\">\n",
       "  <thead>\n",
       "    <tr style=\"text-align: right;\">\n",
       "      <th></th>\n",
       "      <th>fire</th>\n",
       "      <th>year</th>\n",
       "      <th>temp</th>\n",
       "      <th>humidity</th>\n",
       "      <th>rainfall</th>\n",
       "      <th>drought_code</th>\n",
       "      <th>buildup_index</th>\n",
       "      <th>day</th>\n",
       "      <th>month</th>\n",
       "      <th>wind_speed</th>\n",
       "    </tr>\n",
       "  </thead>\n",
       "  <tbody>\n",
       "    <tr>\n",
       "      <th>0</th>\n",
       "      <td>no</td>\n",
       "      <td>2015</td>\n",
       "      <td>28</td>\n",
       "      <td>59</td>\n",
       "      <td>0.0</td>\n",
       "      <td>8.06</td>\n",
       "      <td>3.47</td>\n",
       "      <td>1</td>\n",
       "      <td>6</td>\n",
       "      <td>19</td>\n",
       "    </tr>\n",
       "    <tr>\n",
       "      <th>1</th>\n",
       "      <td>no</td>\n",
       "      <td>2010</td>\n",
       "      <td>30</td>\n",
       "      <td>61</td>\n",
       "      <td>1.3</td>\n",
       "      <td>8.17</td>\n",
       "      <td>4.03</td>\n",
       "      <td>2</td>\n",
       "      <td>6</td>\n",
       "      <td>13</td>\n",
       "    </tr>\n",
       "    <tr>\n",
       "      <th>2</th>\n",
       "      <td>no</td>\n",
       "      <td>2009</td>\n",
       "      <td>26</td>\n",
       "      <td>83</td>\n",
       "      <td>13.1</td>\n",
       "      <td>8.08</td>\n",
       "      <td>3.59</td>\n",
       "      <td>3</td>\n",
       "      <td>6</td>\n",
       "      <td>22</td>\n",
       "    </tr>\n",
       "    <tr>\n",
       "      <th>3</th>\n",
       "      <td>no</td>\n",
       "      <td>2017</td>\n",
       "      <td>25</td>\n",
       "      <td>87</td>\n",
       "      <td>2.5</td>\n",
       "      <td>7.18</td>\n",
       "      <td>2.42</td>\n",
       "      <td>4</td>\n",
       "      <td>6</td>\n",
       "      <td>15</td>\n",
       "    </tr>\n",
       "    <tr>\n",
       "      <th>4</th>\n",
       "      <td>no</td>\n",
       "      <td>2014</td>\n",
       "      <td>28</td>\n",
       "      <td>77</td>\n",
       "      <td>0.0</td>\n",
       "      <td>14.98</td>\n",
       "      <td>4.63</td>\n",
       "      <td>5</td>\n",
       "      <td>6</td>\n",
       "      <td>18</td>\n",
       "    </tr>\n",
       "  </tbody>\n",
       "</table>\n",
       "</div>"
      ],
      "text/plain": [
       "  fire  year  temp  humidity  ...  buildup_index  day  month  wind_speed\n",
       "0   no  2015    28        59  ...           3.47    1      6          19\n",
       "1   no  2010    30        61  ...           4.03    2      6          13\n",
       "2   no  2009    26        83  ...           3.59    3      6          22\n",
       "3   no  2017    25        87  ...           2.42    4      6          15\n",
       "4   no  2014    28        77  ...           4.63    5      6          18\n",
       "\n",
       "[5 rows x 10 columns]"
      ]
     },
     "execution_count": 34,
     "metadata": {},
     "output_type": "execute_result"
    }
   ],
   "source": [
    "train_df.head()"
   ]
  },
  {
   "cell_type": "code",
   "execution_count": 35,
   "id": "6de0dd54",
   "metadata": {},
   "outputs": [
    {
     "name": "stdout",
     "output_type": "stream",
     "text": [
      "Target Variable Distribution:\n",
      " fire\n",
      "yes    79\n",
      "no     75\n",
      "Name: count, dtype: int64\n"
     ]
    }
   ],
   "source": [
    "fire_dist = train_df[\"fire\"].value_counts()\n",
    "print(\"Target Variable Distribution:\\n\", fire_dist)"
   ]
  },
  {
   "cell_type": "code",
   "execution_count": 36,
   "id": "ee443857",
   "metadata": {},
   "outputs": [
    {
     "data": {
      "text/plain": [
       "fire             0\n",
       "year             0\n",
       "temp             0\n",
       "humidity         0\n",
       "rainfall         0\n",
       "drought_code     0\n",
       "buildup_index    0\n",
       "day              0\n",
       "month            0\n",
       "wind_speed       0\n",
       "dtype: int64"
      ]
     },
     "execution_count": 36,
     "metadata": {},
     "output_type": "execute_result"
    }
   ],
   "source": [
    "#check for missing values\n",
    "train_df.isna().sum()"
   ]
  },
  {
   "cell_type": "markdown",
   "id": "f7fb168a",
   "metadata": {},
   "source": [
    "Data Preprocessing"
   ]
  },
  {
   "cell_type": "code",
   "execution_count": 37,
   "id": "f720aefd",
   "metadata": {},
   "outputs": [],
   "source": [
    "X_train = train_df.drop(\"fire\", axis = 1)\n",
    "y_train = train_df[\"fire\"]\n",
    "\n",
    "X_test = test_df.drop(\"fire\", axis=1)\n",
    "y_test = test_df[\"fire\"]"
   ]
  },
  {
   "cell_type": "code",
   "execution_count": 38,
   "id": "457ddd30",
   "metadata": {},
   "outputs": [],
   "source": [
    "from sklearn.preprocessing import LabelEncoder # to change \"yes\" and \"no\" in fire column to 1 and 0\n",
    "label_encoder = LabelEncoder()\n",
    "y_train_encoded = label_encoder.fit_transform(y_train)\n",
    "y_test_encoded = label_encoder.fit_transform(y_test)"
   ]
  },
  {
   "cell_type": "code",
   "execution_count": 39,
   "id": "d0107177",
   "metadata": {},
   "outputs": [
    {
     "name": "stdout",
     "output_type": "stream",
     "text": [
      "Training target distribution: [75 79] (0: no, 1: yes)\n"
     ]
    }
   ],
   "source": [
    "from sklearn.preprocessing import StandardScaler # to scale the data\n",
    "scaler = StandardScaler()\n",
    "X_train_scaled = scaler.fit_transform(X_train)\n",
    "X_test_scaled = scaler.fit_transform(X_test)\n",
    "print(f\"Training target distribution: {np.bincount(y_train_encoded)} (0: no, 1: yes)\")"
   ]
  },
  {
   "cell_type": "markdown",
   "id": "188a70e5",
   "metadata": {},
   "source": [
    "Models with default hyperparameters"
   ]
  },
  {
   "cell_type": "code",
   "execution_count": 52,
   "id": "79936171",
   "metadata": {},
   "outputs": [
    {
     "name": "stdout",
     "output_type": "stream",
     "text": [
      "Random Forest Test Accuracy: 0.86\n",
      "SVM Test Accuracy: 0.8\n"
     ]
    }
   ],
   "source": [
    "from sklearn.ensemble import RandomForestClassifier\n",
    "from sklearn.svm import SVC\n",
    "\n",
    "###### RANDOM FOREST #####\n",
    "rf = RandomForestClassifier(random_state=37)\n",
    "rf.fit(X_train, y_train_encoded)\n",
    "\n",
    "rf_test_accuracy = rf.score(X_test, y_test_encoded)\n",
    "print(f\"Random Forest Test Accuracy: {rf_test_accuracy}\")\n",
    "\n",
    "\n",
    "##### SVM #####\n",
    "svm = SVC(random_state=37)\n",
    "svm.fit(X_train_scaled, y_train_encoded)\n",
    "\n",
    "svm_test_accuracy = svm.score(X_test_scaled, y_test_encoded)\n",
    "print(f\"SVM Test Accuracy: {svm_test_accuracy}\")"
   ]
  }
 ],
 "metadata": {
  "kernelspec": {
   "display_name": "Python 3",
   "language": "python",
   "name": "python3"
  },
  "language_info": {
   "codemirror_mode": {
    "name": "ipython",
    "version": 3
   },
   "file_extension": ".py",
   "mimetype": "text/x-python",
   "name": "python",
   "nbconvert_exporter": "python",
   "pygments_lexer": "ipython3",
   "version": "3.13.5"
  }
 },
 "nbformat": 4,
 "nbformat_minor": 5
}
