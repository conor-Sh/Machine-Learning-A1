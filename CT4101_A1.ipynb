{
 "cells": [
  {
   "cell_type": "code",
   "execution_count": 1,
   "id": "b01e26fc",
   "metadata": {},
   "outputs": [],
   "source": [
    "import pandas as pd\n",
    "import sklearn"
   ]
  },
  {
   "cell_type": "code",
   "execution_count": 5,
   "id": "f1bdc87f",
   "metadata": {},
   "outputs": [
    {
     "name": "stdout",
     "output_type": "stream",
     "text": [
      "    fire  year  temp  humidity  rainfall  drought_code  buildup_index  day  \\\n",
      "0     no  2015    28        59       0.0          8.06           3.47    1   \n",
      "1     no  2010    30        61       1.3          8.17           4.03    2   \n",
      "2     no  2009    26        83      13.1          8.08           3.59    3   \n",
      "3     no  2017    25        87       2.5          7.18           2.42    4   \n",
      "4     no  2014    28        77       0.0         14.98           4.63    5   \n",
      "..   ...   ...   ...       ...       ...           ...            ...  ...   \n",
      "149  yes  2017    31        67       0.0         45.15          17.89   26   \n",
      "150   no  2017    29        89       4.4          8.74           6.52   27   \n",
      "151   no  2009    27        88       0.5          8.87           3.71   28   \n",
      "152   no  2016    25        56       0.1         15.54           6.10   29   \n",
      "153   no  2012    24        62       0.2         16.72           5.75   30   \n",
      "\n",
      "     month  wind_speed  \n",
      "0        6          19  \n",
      "1        6          13  \n",
      "2        6          22  \n",
      "3        6          15  \n",
      "4        6          18  \n",
      "..     ...         ...  \n",
      "149      9          15  \n",
      "150      9          15  \n",
      "151      9          30  \n",
      "152      9          20  \n",
      "153      9          17  \n",
      "\n",
      "[154 rows x 10 columns]\n"
     ]
    }
   ],
   "source": [
    "wildfires_training_df = pd.read_csv(\"C:/Users/shiel/machine_learning_a1/Datasets/wildfires_training.csv\")\n",
    "print(wildfires_training_df)"
   ]
  },
  {
   "cell_type": "code",
   "execution_count": null,
   "id": "c3e98e11",
   "metadata": {},
   "outputs": [],
   "source": []
  }
 ],
 "metadata": {
  "kernelspec": {
   "display_name": "Python 3",
   "language": "python",
   "name": "python3"
  },
  "language_info": {
   "codemirror_mode": {
    "name": "ipython",
    "version": 3
   },
   "file_extension": ".py",
   "mimetype": "text/x-python",
   "name": "python",
   "nbconvert_exporter": "python",
   "pygments_lexer": "ipython3",
   "version": "3.13.5"
  }
 },
 "nbformat": 4,
 "nbformat_minor": 5
}
